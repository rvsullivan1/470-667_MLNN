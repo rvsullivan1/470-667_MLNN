{
 "cells": [
  {
   "cell_type": "markdown",
   "metadata": {},
   "source": [
    "# Assignment 12 - Neural Networks image recognition\n",
    "Use both MLNN and the ConvNet to solve the following problem.\n",
    "\n",
    "1. Add random noise (i.e. `np.random.normal`) to the images in training and testing. Make sure each image gets a different noise feature added to it. Inspect by printing out an image. \n"
   ]
  },
  {
   "cell_type": "code",
   "execution_count": 3,
   "metadata": {},
   "outputs": [],
   "source": [
    "from tensorflow import keras\n",
    "from tensorflow.keras.datasets import mnist\n",
    "from tensorflow.keras.models import Sequential\n",
    "from tensorflow.keras.optimizers import RMSprop\n",
    "from tensorflow.keras.layers import Dense, Dropout, Flatten\n",
    "from tensorflow.keras.layers import Conv2D, MaxPooling2D\n",
    "from tensorflow.keras import backend\n",
    "import pandas as pd\n",
    "import numpy as np"
   ]
  },
  {
   "cell_type": "code",
   "execution_count": 4,
   "metadata": {},
   "outputs": [],
   "source": [
    "import matplotlib.pyplot as  plt\n",
    "%matplotlib inline"
   ]
  },
  {
   "cell_type": "code",
   "execution_count": 5,
   "metadata": {},
   "outputs": [],
   "source": [
    "(x_train, y_train), (x_test, y_test) = mnist.load_data()"
   ]
  },
  {
   "cell_type": "code",
   "execution_count": 6,
   "metadata": {},
   "outputs": [],
   "source": [
    "x_train = x_train.astype('float32')\n",
    "x_test = x_test.astype('float32')\n",
    "x_train /= 255\n",
    "x_test /= 255"
   ]
  },
  {
   "cell_type": "code",
   "execution_count": 5,
   "metadata": {},
   "outputs": [
    {
     "data": {
      "text/plain": [
       "(60000, 28, 28)"
      ]
     },
     "execution_count": 5,
     "metadata": {},
     "output_type": "execute_result"
    }
   ],
   "source": [
    "x_train.shape"
   ]
  },
  {
   "cell_type": "code",
   "execution_count": 6,
   "metadata": {},
   "outputs": [
    {
     "data": {
      "text/plain": [
       "(10000, 28, 28)"
      ]
     },
     "execution_count": 6,
     "metadata": {},
     "output_type": "execute_result"
    }
   ],
   "source": [
    "x_test.shape"
   ]
  },
  {
   "cell_type": "code",
   "execution_count": 8,
   "metadata": {},
   "outputs": [],
   "source": [
    "# training noise \n",
    "mu, sigma = 0, 0.1 \n",
    "noise_x_train = np.random.normal(mu, sigma, [60000, 28, 28]) "
   ]
  },
  {
   "cell_type": "code",
   "execution_count": 9,
   "metadata": {},
   "outputs": [],
   "source": [
    "# testing noise \n",
    "noise_x_test = np.random.normal(mu, sigma, [10000, 28, 28]) "
   ]
  },
  {
   "cell_type": "code",
   "execution_count": 9,
   "metadata": {},
   "outputs": [],
   "source": [
    "xx_train = x_train + noise_x_train\n",
    "xx_test = x_test + noise_x_test"
   ]
  },
  {
   "cell_type": "code",
   "execution_count": 10,
   "metadata": {},
   "outputs": [
    {
     "data": {
      "text/plain": [
       "<matplotlib.image.AxesImage at 0x2e5e3d420c8>"
      ]
     },
     "execution_count": 10,
     "metadata": {},
     "output_type": "execute_result"
    },
    {
     "data": {
      "image/png": "[encoded data removed]",
      "text/plain": [
       "<Figure size 432x288 with 1 Axes>"
      ]
     },
     "metadata": {
      "needs_background": "light"
     },
     "output_type": "display_data"
    }
   ],
   "source": [
    "plt.imshow(x_train[0])"
   ]
  },
  {
   "cell_type": "code",
   "execution_count": 11,
   "metadata": {},
   "outputs": [
    {
     "data": {
      "text/plain": [
       "<matplotlib.image.AxesImage at 0x2e5e3df6fc8>"
      ]
     },
     "execution_count": 11,
     "metadata": {},
     "output_type": "execute_result"
    },
    {
     "data": {
      "image/png": "[encoded data removed]",
      "text/plain": [
       "<Figure size 432x288 with 1 Axes>"
      ]
     },
     "metadata": {
      "needs_background": "light"
     },
     "output_type": "display_data"
    }
   ],
   "source": [
    "plt.imshow(xx_train[0])"
   ]
  },
  {
   "cell_type": "code",
   "execution_count": 12,
   "metadata": {},
   "outputs": [
    {
     "data": {
      "text/plain": [
       "<matplotlib.image.AxesImage at 0x2e5e3e68648>"
      ]
     },
     "execution_count": 12,
     "metadata": {},
     "output_type": "execute_result"
    },
    {
     "data": {
      "image/png": "[encoded data removed]",
      "text/plain": [
       "<Figure size 432x288 with 1 Axes>"
      ]
     },
     "metadata": {
      "needs_background": "light"
     },
     "output_type": "display_data"
    }
   ],
   "source": [
    "plt.imshow(x_test[0])"
   ]
  },
  {
   "cell_type": "code",
   "execution_count": 13,
   "metadata": {},
   "outputs": [
    {
     "data": {
      "text/plain": [
       "<matplotlib.image.AxesImage at 0x2e5e3ecf348>"
      ]
     },
     "execution_count": 13,
     "metadata": {},
     "output_type": "execute_result"
    },
    {
     "data": {
      "image/png": "[encoded data removed]",
      "text/plain": [
       "<Figure size 432x288 with 1 Axes>"
      ]
     },
     "metadata": {
      "needs_background": "light"
     },
     "output_type": "display_data"
    }
   ],
   "source": [
    "plt.imshow(xx_test[0])"
   ]
  },
  {
   "cell_type": "markdown",
   "metadata": {},
   "source": [
    "2. Compare the loss/accuracy (train, val) after N epochs for both MLNN and ConvNet with and without noise. "
   ]
  },
  {
   "cell_type": "code",
   "execution_count": 14,
   "metadata": {},
   "outputs": [],
   "source": [
    "x_train_NN = x_train.reshape(60000, 784)\n",
    "x_test_NN = x_test.reshape(10000, 784)"
   ]
  },
  {
   "cell_type": "code",
   "execution_count": 7,
   "metadata": {},
   "outputs": [],
   "source": [
    "batch_size = 128\n",
    "num_classes = 10\n",
    "epochs = 20\n",
    "\n",
    "# convert class vectors to binary class matrices\n",
    "y_train = keras.utils.to_categorical(y_train, num_classes)\n",
    "y_test = keras.utils.to_categorical(y_test, num_classes)"
   ]
  },
  {
   "cell_type": "code",
   "execution_count": 16,
   "metadata": {},
   "outputs": [
    {
     "name": "stdout",
     "output_type": "stream",
     "text": [
      "WARNING:tensorflow:From C:\\ProgramData\\Anaconda3\\lib\\site-packages\\tensorflow\\python\\ops\\init_ops.py:1251: calling VarianceScaling.__init__ (from tensorflow.python.ops.init_ops) with dtype is deprecated and will be removed in a future version.\n",
      "Instructions for updating:\n",
      "Call initializer instance with the dtype argument instead of passing it to the constructor\n",
      "Model: \"sequential\"\n",
      "_________________________________________________________________\n",
      "Layer (type)                 Output Shape              Param #   \n",
      "=================================================================\n",
      "dense (Dense)                (None, 512)               401920    \n",
      "_________________________________________________________________\n",
      "dropout (Dropout)            (None, 512)               0         \n",
      "_________________________________________________________________\n",
      "dense_1 (Dense)              (None, 512)               262656    \n",
      "_________________________________________________________________\n",
      "dropout_1 (Dropout)          (None, 512)               0         \n",
      "_________________________________________________________________\n",
      "dense_2 (Dense)              (None, 10)                5130      \n",
      "=================================================================\n",
      "Total params: 669,706\n",
      "Trainable params: 669,706\n",
      "Non-trainable params: 0\n",
      "_________________________________________________________________\n",
      "Train on 60000 samples, validate on 10000 samples\n",
      "Epoch 1/20\n",
      "60000/60000 [==============================] - 36s 594us/sample - loss: 0.2447 - acc: 0.9252 - val_loss: 0.1149 - val_acc: 0.9651\n",
      "Epoch 2/20\n",
      "60000/60000 [==============================] - 30s 499us/sample - loss: 0.1011 - acc: 0.9690 - val_loss: 0.0882 - val_acc: 0.9740\n",
      "Epoch 3/20\n",
      "60000/60000 [==============================] - 33s 549us/sample - loss: 0.0754 - acc: 0.9773 - val_loss: 0.0753 - val_acc: 0.9777\n",
      "Epoch 4/20\n",
      "60000/60000 [==============================] - 42s 702us/sample - loss: 0.0610 - acc: 0.9820 - val_loss: 0.0749 - val_acc: 0.9788\n",
      "Epoch 5/20\n",
      "60000/60000 [==============================] - 36s 597us/sample - loss: 0.0511 - acc: 0.9844 - val_loss: 0.0780 - val_acc: 0.9808\n",
      "Epoch 6/20\n",
      "60000/60000 [==============================] - 38s 628us/sample - loss: 0.0436 - acc: 0.9865 - val_loss: 0.0740 - val_acc: 0.9807\n",
      "Epoch 7/20\n",
      "60000/60000 [==============================] - 35s 577us/sample - loss: 0.0366 - acc: 0.9885 - val_loss: 0.0923 - val_acc: 0.9801\n",
      "Epoch 8/20\n",
      "60000/60000 [==============================] - 33s 556us/sample - loss: 0.0324 - acc: 0.9899 - val_loss: 0.0937 - val_acc: 0.9798\n",
      "Epoch 9/20\n",
      "60000/60000 [==============================] - 34s 562us/sample - loss: 0.0330 - acc: 0.9903 - val_loss: 0.0930 - val_acc: 0.9805\n",
      "Epoch 10/20\n",
      "60000/60000 [==============================] - 35s 586us/sample - loss: 0.0283 - acc: 0.9915 - val_loss: 0.0863 - val_acc: 0.9821\n",
      "Epoch 11/20\n",
      "60000/60000 [==============================] - 36s 596us/sample - loss: 0.0257 - acc: 0.9925 - val_loss: 0.0919 - val_acc: 0.9828\n",
      "Epoch 12/20\n",
      "60000/60000 [==============================] - 34s 562us/sample - loss: 0.0243 - acc: 0.9928 - val_loss: 0.0930 - val_acc: 0.9837\n",
      "Epoch 13/20\n",
      "60000/60000 [==============================] - 37s 617us/sample - loss: 0.0228 - acc: 0.9936 - val_loss: 0.0961 - val_acc: 0.9829\n",
      "Epoch 14/20\n",
      "60000/60000 [==============================] - 50s 829us/sample - loss: 0.0218 - acc: 0.9940 - val_loss: 0.1107 - val_acc: 0.9830\n",
      "Epoch 15/20\n",
      "60000/60000 [==============================] - 41s 677us/sample - loss: 0.0233 - acc: 0.9937 - val_loss: 0.1138 - val_acc: 0.9824\n",
      "Epoch 16/20\n",
      "60000/60000 [==============================] - 34s 571us/sample - loss: 0.0207 - acc: 0.9945 - val_loss: 0.1019 - val_acc: 0.9835\n",
      "Epoch 17/20\n",
      "60000/60000 [==============================] - 34s 570us/sample - loss: 0.0204 - acc: 0.9947 - val_loss: 0.1248 - val_acc: 0.9828\n",
      "Epoch 18/20\n",
      "60000/60000 [==============================] - 35s 575us/sample - loss: 0.0198 - acc: 0.9948 - val_loss: 0.1196 - val_acc: 0.9823\n",
      "Epoch 19/20\n",
      "60000/60000 [==============================] - 34s 563us/sample - loss: 0.0164 - acc: 0.9959 - val_loss: 0.1198 - val_acc: 0.9832\n",
      "Epoch 20/20\n",
      "60000/60000 [==============================] - 34s 564us/sample - loss: 0.0175 - acc: 0.9955 - val_loss: 0.1375 - val_acc: 0.9821\n"
     ]
    }
   ],
   "source": [
    "## NN without noise\n",
    "\n",
    "model = Sequential()\n",
    "model.add(Dense(512, activation='relu', input_shape=(784,)))\n",
    "model.add(Dropout(0.2))\n",
    "model.add(Dense(512, activation='relu'))\n",
    "model.add(Dropout(0.2))\n",
    "model.add(Dense(10, activation='softmax'))\n",
    "\n",
    "model.summary()\n",
    "\n",
    "model.compile(loss='categorical_crossentropy',\n",
    "              optimizer=RMSprop(),\n",
    "              metrics=['accuracy'])\n",
    "\n",
    "history = model.fit(x_train_NN, y_train,\n",
    "                    batch_size=batch_size,\n",
    "                    epochs=epochs,\n",
    "                    verbose=1,\n",
    "                    validation_data=(x_test_NN, y_test))"
   ]
  },
  {
   "cell_type": "code",
   "execution_count": 17,
   "metadata": {},
   "outputs": [
    {
     "data": {
      "text/plain": [
       "[0.13750293925282298, 0.9821]"
      ]
     },
     "execution_count": 17,
     "metadata": {},
     "output_type": "execute_result"
    }
   ],
   "source": [
    "#NN no noise test\n",
    "score = model.evaluate(x_test_NN, y_test, verbose=0)\n",
    "score"
   ]
  },
  {
   "cell_type": "code",
   "execution_count": 18,
   "metadata": {},
   "outputs": [
    {
     "data": {
      "text/plain": [
       "[0.0025871739571745015, 0.99906665]"
      ]
     },
     "execution_count": 18,
     "metadata": {},
     "output_type": "execute_result"
    }
   ],
   "source": [
    "#NN no noise train\n",
    "score_train = model.evaluate(x_train_NN, y_train, verbose=0)\n",
    "score_train"
   ]
  },
  {
   "cell_type": "code",
   "execution_count": 19,
   "metadata": {},
   "outputs": [],
   "source": [
    "xx_train_NN = xx_train.reshape(60000, 784)\n",
    "xx_test_NN = xx_test.reshape(10000, 784)"
   ]
  },
  {
   "cell_type": "code",
   "execution_count": 20,
   "metadata": {},
   "outputs": [
    {
     "name": "stdout",
     "output_type": "stream",
     "text": [
      "Model: \"sequential_1\"\n",
      "_________________________________________________________________\n",
      "Layer (type)                 Output Shape              Param #   \n",
      "=================================================================\n",
      "dense_3 (Dense)              (None, 512)               401920    \n",
      "_________________________________________________________________\n",
      "dropout_2 (Dropout)          (None, 512)               0         \n",
      "_________________________________________________________________\n",
      "dense_4 (Dense)              (None, 512)               262656    \n",
      "_________________________________________________________________\n",
      "dropout_3 (Dropout)          (None, 512)               0         \n",
      "_________________________________________________________________\n",
      "dense_5 (Dense)              (None, 10)                5130      \n",
      "=================================================================\n",
      "Total params: 669,706\n",
      "Trainable params: 669,706\n",
      "Non-trainable params: 0\n",
      "_________________________________________________________________\n",
      "Train on 60000 samples, validate on 10000 samples\n",
      "Epoch 1/20\n",
      "60000/60000 [==============================] - 54s 901us/sample - loss: 0.2649 - acc: 0.9186 - val_loss: 0.1154 - val_acc: 0.9649\n",
      "Epoch 2/20\n",
      "60000/60000 [==============================] - 29s 476us/sample - loss: 0.0997 - acc: 0.9693 - val_loss: 0.0987 - val_acc: 0.9705\n",
      "Epoch 3/20\n",
      "60000/60000 [==============================] - 31s 523us/sample - loss: 0.0625 - acc: 0.9802 - val_loss: 0.0963 - val_acc: 0.9740\n",
      "Epoch 4/20\n",
      "60000/60000 [==============================] - 33s 553us/sample - loss: 0.0428 - acc: 0.9862 - val_loss: 0.1161 - val_acc: 0.9702\n",
      "Epoch 5/20\n",
      "60000/60000 [==============================] - 34s 561us/sample - loss: 0.0309 - acc: 0.9903 - val_loss: 0.1055 - val_acc: 0.9757\n",
      "Epoch 6/20\n",
      "60000/60000 [==============================] - 33s 557us/sample - loss: 0.0252 - acc: 0.9922 - val_loss: 0.1277 - val_acc: 0.9739\n",
      "Epoch 7/20\n",
      "60000/60000 [==============================] - 53s 881us/sample - loss: 0.0208 - acc: 0.9933 - val_loss: 0.1471 - val_acc: 0.9749\n",
      "Epoch 8/20\n",
      "60000/60000 [==============================] - 38s 633us/sample - loss: 0.0174 - acc: 0.9941 - val_loss: 0.1410 - val_acc: 0.9758\n",
      "Epoch 9/20\n",
      "60000/60000 [==============================] - 34s 574us/sample - loss: 0.0170 - acc: 0.9949 - val_loss: 0.1544 - val_acc: 0.9764\n",
      "Epoch 10/20\n",
      "60000/60000 [==============================] - 34s 573us/sample - loss: 0.0141 - acc: 0.9959 - val_loss: 0.1794 - val_acc: 0.9757\n",
      "Epoch 11/20\n",
      "60000/60000 [==============================] - 38s 639us/sample - loss: 0.0144 - acc: 0.9956 - val_loss: 0.1692 - val_acc: 0.9784\n",
      "Epoch 12/20\n",
      "60000/60000 [==============================] - 35s 585us/sample - loss: 0.0130 - acc: 0.9960 - val_loss: 0.1654 - val_acc: 0.9765\n",
      "Epoch 13/20\n",
      "60000/60000 [==============================] - 35s 582us/sample - loss: 0.0119 - acc: 0.9965 - val_loss: 0.1773 - val_acc: 0.9777\n",
      "Epoch 14/20\n",
      "60000/60000 [==============================] - 40s 666us/sample - loss: 0.0116 - acc: 0.9966 - val_loss: 0.1942 - val_acc: 0.9778\n",
      "Epoch 15/20\n",
      "60000/60000 [==============================] - 35s 580us/sample - loss: 0.0103 - acc: 0.9972 - val_loss: 0.1768 - val_acc: 0.9780\n",
      "Epoch 16/20\n",
      "60000/60000 [==============================] - 36s 603us/sample - loss: 0.0107 - acc: 0.9971 - val_loss: 0.1998 - val_acc: 0.9779\n",
      "Epoch 17/20\n",
      "60000/60000 [==============================] - 35s 588us/sample - loss: 0.0101 - acc: 0.9972 - val_loss: 0.1980 - val_acc: 0.9774\n",
      "Epoch 18/20\n",
      "60000/60000 [==============================] - 35s 577us/sample - loss: 0.0096 - acc: 0.9976 - val_loss: 0.2053 - val_acc: 0.9779\n",
      "Epoch 19/20\n",
      "60000/60000 [==============================] - 37s 613us/sample - loss: 0.0101 - acc: 0.9973 - val_loss: 0.1926 - val_acc: 0.9790\n",
      "Epoch 20/20\n",
      "60000/60000 [==============================] - 39s 652us/sample - loss: 0.0093 - acc: 0.9974 - val_loss: 0.2316 - val_acc: 0.9777\n"
     ]
    }
   ],
   "source": [
    "## NN with noise\n",
    "\n",
    "model = Sequential()\n",
    "model.add(Dense(512, activation='relu', input_shape=(784,)))\n",
    "model.add(Dropout(0.2))\n",
    "model.add(Dense(512, activation='relu'))\n",
    "model.add(Dropout(0.2))\n",
    "model.add(Dense(10, activation='softmax'))\n",
    "\n",
    "model.summary()\n",
    "\n",
    "model.compile(loss='categorical_crossentropy',\n",
    "              optimizer=RMSprop(),\n",
    "              metrics=['accuracy'])\n",
    "\n",
    "history = model.fit(xx_train_NN, y_train,\n",
    "                    batch_size=batch_size,\n",
    "                    epochs=epochs,\n",
    "                    verbose=1,\n",
    "                    validation_data=(xx_test_NN, y_test))"
   ]
  },
  {
   "cell_type": "code",
   "execution_count": 21,
   "metadata": {},
   "outputs": [
    {
     "data": {
      "text/plain": [
       "[0.2316132221521425, 0.9777]"
      ]
     },
     "execution_count": 21,
     "metadata": {},
     "output_type": "execute_result"
    }
   ],
   "source": [
    "#NN noise test\n",
    "score1 = model.evaluate(xx_test_NN, y_test, verbose=0)\n",
    "score1"
   ]
  },
  {
   "cell_type": "code",
   "execution_count": 22,
   "metadata": {},
   "outputs": [
    {
     "data": {
      "text/plain": [
       "[0.0005200502355462094, 0.99976665]"
      ]
     },
     "execution_count": 22,
     "metadata": {},
     "output_type": "execute_result"
    }
   ],
   "source": [
    "#NN noise train\n",
    "score1_train = model.evaluate(xx_train_NN, y_train, verbose=0)\n",
    "score1_train"
   ]
  },
  {
   "cell_type": "code",
   "execution_count": 23,
   "metadata": {},
   "outputs": [],
   "source": [
    "## convolution NN\n",
    "\n",
    "# input image dimensions\n",
    "img_rows, img_cols = 28, 28\n",
    "\n",
    "if backend.image_data_format() == 'channels_first':\n",
    "    x_train_CNN = x_train.reshape(x_train.shape[0], 1, img_rows, img_cols)\n",
    "    x_test_CNN = x_test.reshape(x_test.shape[0], 1, img_rows, img_cols)\n",
    "    input_shape = (1, img_rows, img_cols)\n",
    "else:\n",
    "    x_train_CNN = x_train.reshape(x_train.shape[0], img_rows, img_cols, 1)\n",
    "    x_test_CNN = x_test.reshape(x_test.shape[0], img_rows, img_cols, 1)\n",
    "    input_shape = (img_rows, img_cols, 1)\n"
   ]
  },
  {
   "cell_type": "code",
   "execution_count": 24,
   "metadata": {},
   "outputs": [
    {
     "name": "stdout",
     "output_type": "stream",
     "text": [
      "Train on 60000 samples, validate on 10000 samples\n",
      "Epoch 1/20\n",
      "60000/60000 [==============================] - 759s 13ms/sample - loss: 2.2854 - acc: 0.1491 - val_loss: 2.2484 - val_acc: 0.3847\n",
      "Epoch 2/20\n",
      "60000/60000 [==============================] - 748s 12ms/sample - loss: 2.2244 - acc: 0.2844 - val_loss: 2.1716 - val_acc: 0.6114\n",
      "Epoch 3/20\n",
      "60000/60000 [==============================] - 691s 12ms/sample - loss: 2.1456 - acc: 0.3957 - val_loss: 2.0704 - val_acc: 0.6746\n",
      "Epoch 4/20\n",
      "60000/60000 [==============================] - 728s 12ms/sample - loss: 2.0396 - acc: 0.4730 - val_loss: 1.9364 - val_acc: 0.7101\n",
      "Epoch 5/20\n",
      "60000/60000 [==============================] - 787s 13ms/sample - loss: 1.9025 - acc: 0.5311 - val_loss: 1.7638 - val_acc: 0.7340\n",
      "Epoch 6/20\n",
      "60000/60000 [==============================] - 693s 12ms/sample - loss: 1.7355 - acc: 0.5785 - val_loss: 1.5592 - val_acc: 0.7559\n",
      "Epoch 7/20\n",
      "60000/60000 [==============================] - 685s 11ms/sample - loss: 1.5605 - acc: 0.6109 - val_loss: 1.3490 - val_acc: 0.7775\n",
      "Epoch 8/20\n",
      "60000/60000 [==============================] - 673s 11ms/sample - loss: 1.3892 - acc: 0.6414 - val_loss: 1.1573 - val_acc: 0.7972\n",
      "Epoch 9/20\n",
      "60000/60000 [==============================] - 718s 12ms/sample - loss: 1.2441 - acc: 0.6636 - val_loss: 0.9991 - val_acc: 0.8110\n",
      "Epoch 10/20\n",
      "60000/60000 [==============================] - 719s 12ms/sample - loss: 1.1276 - acc: 0.6877 - val_loss: 0.8759 - val_acc: 0.8255\n",
      "Epoch 11/20\n",
      "60000/60000 [==============================] - 687s 11ms/sample - loss: 1.0307 - acc: 0.7046 - val_loss: 0.7814 - val_acc: 0.8354\n",
      "Epoch 12/20\n",
      "60000/60000 [==============================] - 763s 13ms/sample - loss: 0.9576 - acc: 0.7211 - val_loss: 0.7081 - val_acc: 0.8450\n",
      "Epoch 13/20\n",
      "60000/60000 [==============================] - 697s 12ms/sample - loss: 0.9014 - acc: 0.7321 - val_loss: 0.6517 - val_acc: 0.8501\n",
      "Epoch 14/20\n",
      "60000/60000 [==============================] - 738s 12ms/sample - loss: 0.8502 - acc: 0.7469 - val_loss: 0.6053 - val_acc: 0.8572\n",
      "Epoch 15/20\n",
      "60000/60000 [==============================] - 735s 12ms/sample - loss: 0.8082 - acc: 0.7574 - val_loss: 0.5678 - val_acc: 0.8632\n",
      "Epoch 16/20\n",
      "60000/60000 [==============================] - 702s 12ms/sample - loss: 0.7728 - acc: 0.7658 - val_loss: 0.5370 - val_acc: 0.8695\n",
      "Epoch 17/20\n",
      "60000/60000 [==============================] - 692s 12ms/sample - loss: 0.7393 - acc: 0.7766 - val_loss: 0.5107 - val_acc: 0.8745\n",
      "Epoch 18/20\n",
      "60000/60000 [==============================] - 681s 11ms/sample - loss: 0.7115 - acc: 0.7839 - val_loss: 0.4877 - val_acc: 0.8787\n",
      "Epoch 19/20\n",
      "60000/60000 [==============================] - 713s 12ms/sample - loss: 0.6870 - acc: 0.7927 - val_loss: 0.4681 - val_acc: 0.8819\n",
      "Epoch 20/20\n",
      "60000/60000 [==============================] - 717s 12ms/sample - loss: 0.6680 - acc: 0.7952 - val_loss: 0.4511 - val_acc: 0.8839\n"
     ]
    },
    {
     "data": {
      "text/plain": [
       "<tensorflow.python.keras.callbacks.History at 0x2e5b1dab788>"
      ]
     },
     "execution_count": 24,
     "metadata": {},
     "output_type": "execute_result"
    }
   ],
   "source": [
    "## CNN without noise\n",
    "\n",
    "model = Sequential()\n",
    "model.add(Conv2D(32, kernel_size=(3, 3),\n",
    "                 activation='relu',\n",
    "                 input_shape=input_shape))\n",
    "model.add(Conv2D(64, (3, 3), activation='relu'))\n",
    "model.add(MaxPooling2D(pool_size=(2, 2)))\n",
    "model.add(Dropout(0.25))\n",
    "model.add(Flatten())\n",
    "model.add(Dense(128, activation='relu'))\n",
    "model.add(Dropout(0.5))\n",
    "model.add(Dense(num_classes, activation='softmax'))\n",
    "\n",
    "model.compile(loss=keras.losses.categorical_crossentropy,\n",
    "              optimizer=keras.optimizers.Adadelta(),\n",
    "              metrics=['accuracy'])\n",
    "\n",
    "model.fit(x_train_CNN, y_train,\n",
    "          batch_size=batch_size,\n",
    "          epochs=epochs,\n",
    "          verbose=1,\n",
    "          validation_data=(x_test_CNN, y_test))\n"
   ]
  },
  {
   "cell_type": "code",
   "execution_count": 25,
   "metadata": {},
   "outputs": [
    {
     "data": {
      "text/plain": [
       "[0.4511451195478439, 0.8839]"
      ]
     },
     "execution_count": 25,
     "metadata": {},
     "output_type": "execute_result"
    }
   ],
   "source": [
    "#CNN no noise test\n",
    "score2 = model.evaluate(x_test_CNN, y_test, verbose=0)\n",
    "score2"
   ]
  },
  {
   "cell_type": "code",
   "execution_count": 26,
   "metadata": {},
   "outputs": [
    {
     "data": {
      "text/plain": [
       "[0.47080666828155515, 0.8749167]"
      ]
     },
     "execution_count": 26,
     "metadata": {},
     "output_type": "execute_result"
    }
   ],
   "source": [
    "#CNN no noise train\n",
    "score2_train = model.evaluate(x_train_CNN, y_train, verbose=0)\n",
    "score2_train"
   ]
  },
  {
   "cell_type": "code",
   "execution_count": 27,
   "metadata": {},
   "outputs": [],
   "source": [
    "if backend.image_data_format() == 'channels_first':\n",
    "    xx_train_CNN = xx_train.reshape(xx_train.shape[0], 1, img_rows, img_cols)\n",
    "    xx_test_CNN = xx_test.reshape(xx_test.shape[0], 1, img_rows, img_cols)\n",
    "    input_shape = (1, img_rows, img_cols)\n",
    "else:\n",
    "    xx_train_CNN = xx_train.reshape(xx_train.shape[0], img_rows, img_cols, 1)\n",
    "    xx_test_CNN = xx_test.reshape(xx_test.shape[0], img_rows, img_cols, 1)\n",
    "    input_shape = (img_rows, img_cols, 1)\n"
   ]
  },
  {
   "cell_type": "code",
   "execution_count": 28,
   "metadata": {},
   "outputs": [
    {
     "name": "stdout",
     "output_type": "stream",
     "text": [
      "Train on 60000 samples, validate on 10000 samples\n",
      "Epoch 1/20\n",
      "60000/60000 [==============================] - 797s 13ms/sample - loss: 2.2961 - acc: 0.1147 - val_loss: 2.2695 - val_acc: 0.2072\n",
      "Epoch 2/20\n",
      "60000/60000 [==============================] - 709s 12ms/sample - loss: 2.2584 - acc: 0.1899 - val_loss: 2.2272 - val_acc: 0.3663\n",
      "Epoch 3/20\n",
      "60000/60000 [==============================] - 724s 12ms/sample - loss: 2.2158 - acc: 0.2602 - val_loss: 2.1747 - val_acc: 0.4718\n",
      "Epoch 4/20\n",
      "60000/60000 [==============================] - 790s 13ms/sample - loss: 2.1606 - acc: 0.3322 - val_loss: 2.1033 - val_acc: 0.5467\n",
      "Epoch 5/20\n",
      "60000/60000 [==============================] - 760s 13ms/sample - loss: 2.0841 - acc: 0.3974 - val_loss: 2.0054 - val_acc: 0.6155\n",
      "Epoch 6/20\n",
      "60000/60000 [==============================] - 753s 13ms/sample - loss: 1.9834 - acc: 0.4552 - val_loss: 1.8766 - val_acc: 0.6687\n",
      "Epoch 7/20\n",
      "60000/60000 [==============================] - 720s 12ms/sample - loss: 1.8573 - acc: 0.5061 - val_loss: 1.7182 - val_acc: 0.7095\n",
      "Epoch 8/20\n",
      "60000/60000 [==============================] - 758s 13ms/sample - loss: 1.7123 - acc: 0.5516 - val_loss: 1.5396 - val_acc: 0.7427\n",
      "Epoch 9/20\n",
      "60000/60000 [==============================] - 780s 13ms/sample - loss: 1.5606 - acc: 0.5870 - val_loss: 1.3590 - val_acc: 0.7696\n",
      "Epoch 10/20\n",
      "60000/60000 [==============================] - 763s 13ms/sample - loss: 1.4179 - acc: 0.6142 - val_loss: 1.1955 - val_acc: 0.7875\n",
      "Epoch 11/20\n",
      "60000/60000 [==============================] - 817s 14ms/sample - loss: 1.2890 - acc: 0.6411 - val_loss: 1.0558 - val_acc: 0.8014\n",
      "Epoch 12/20\n",
      "60000/60000 [==============================] - 768s 13ms/sample - loss: 1.1838 - acc: 0.6596 - val_loss: 0.9430 - val_acc: 0.8133\n",
      "Epoch 13/20\n",
      "60000/60000 [==============================] - 750s 12ms/sample - loss: 1.1000 - acc: 0.6769 - val_loss: 0.8530 - val_acc: 0.8242\n",
      "Epoch 14/20\n",
      "60000/60000 [==============================] - 776s 13ms/sample - loss: 1.0276 - acc: 0.6956 - val_loss: 0.7807 - val_acc: 0.8317\n",
      "Epoch 15/20\n",
      "60000/60000 [==============================] - 739s 12ms/sample - loss: 0.9695 - acc: 0.7090 - val_loss: 0.7226 - val_acc: 0.8402\n",
      "Epoch 16/20\n",
      "60000/60000 [==============================] - 703s 12ms/sample - loss: 0.9177 - acc: 0.7202 - val_loss: 0.6753 - val_acc: 0.8468\n",
      "Epoch 17/20\n",
      "60000/60000 [==============================] - 712s 12ms/sample - loss: 0.8801 - acc: 0.7313 - val_loss: 0.6369 - val_acc: 0.8526\n",
      "Epoch 18/20\n",
      "60000/60000 [==============================] - 758s 13ms/sample - loss: 0.8461 - acc: 0.7390 - val_loss: 0.6042 - val_acc: 0.8565\n",
      "Epoch 19/20\n",
      "60000/60000 [==============================] - 783s 13ms/sample - loss: 0.8127 - acc: 0.7490 - val_loss: 0.5768 - val_acc: 0.8600\n",
      "Epoch 20/20\n",
      "60000/60000 [==============================] - 750s 13ms/sample - loss: 0.7856 - acc: 0.7587 - val_loss: 0.5529 - val_acc: 0.8635\n"
     ]
    },
    {
     "data": {
      "text/plain": [
       "<tensorflow.python.keras.callbacks.History at 0x2e5c1211148>"
      ]
     },
     "execution_count": 28,
     "metadata": {},
     "output_type": "execute_result"
    }
   ],
   "source": [
    "# CNN with noise\n",
    "\n",
    "model = Sequential()\n",
    "model.add(Conv2D(32, kernel_size=(3, 3),\n",
    "                 activation='relu',\n",
    "                 input_shape=input_shape))\n",
    "model.add(Conv2D(64, (3, 3), activation='relu'))\n",
    "model.add(MaxPooling2D(pool_size=(2, 2)))\n",
    "model.add(Dropout(0.25))\n",
    "model.add(Flatten())\n",
    "model.add(Dense(128, activation='relu'))\n",
    "model.add(Dropout(0.5))\n",
    "model.add(Dense(num_classes, activation='softmax'))\n",
    "\n",
    "model.compile(loss=keras.losses.categorical_crossentropy,\n",
    "              optimizer=keras.optimizers.Adadelta(),\n",
    "              metrics=['accuracy'])\n",
    "\n",
    "model.fit(xx_train_CNN, y_train,\n",
    "          batch_size=batch_size,\n",
    "          epochs=epochs,\n",
    "          verbose=1,\n",
    "          validation_data=(xx_test_CNN, y_test))\n"
   ]
  },
  {
   "cell_type": "code",
   "execution_count": 29,
   "metadata": {},
   "outputs": [
    {
     "data": {
      "text/plain": [
       "[0.5528860177993774, 0.8635]"
      ]
     },
     "execution_count": 29,
     "metadata": {},
     "output_type": "execute_result"
    }
   ],
   "source": [
    "#CNN noise test\n",
    "score3 = model.evaluate(xx_test_CNN, y_test, verbose=0)\n",
    "score3"
   ]
  },
  {
   "cell_type": "code",
   "execution_count": 30,
   "metadata": {},
   "outputs": [
    {
     "data": {
      "text/plain": [
       "[0.5728841085275014, 0.8552833]"
      ]
     },
     "execution_count": 30,
     "metadata": {},
     "output_type": "execute_result"
    }
   ],
   "source": [
    "#CNN noise train\n",
    "score3_train = model.evaluate(xx_train_CNN, y_train, verbose=0)\n",
    "score3_train"
   ]
  },
  {
   "cell_type": "markdown",
   "metadata": {},
   "source": [
    "3. Vary the amount of noise (multiply `np.random.normal` by a factor) and keep track of the accuracy and loss (for training and validation) and plot these results."
   ]
  },
  {
   "cell_type": "code",
   "execution_count": 10,
   "metadata": {},
   "outputs": [],
   "source": [
    "# 2x noise \n",
    "noise_xx_train = noise_x_train*2\n",
    "noise_xx_test = noise_x_test*2"
   ]
  },
  {
   "cell_type": "code",
   "execution_count": 11,
   "metadata": {},
   "outputs": [],
   "source": [
    "xxx_train = x_train + noise_xx_train\n",
    "xxx_test = x_test + noise_xx_test"
   ]
  },
  {
   "cell_type": "code",
   "execution_count": 12,
   "metadata": {},
   "outputs": [],
   "source": [
    "xxx_train_NN = xxx_train.reshape(60000, 784)\n",
    "xxx_test_NN = xxx_test.reshape(10000, 784)"
   ]
  },
  {
   "cell_type": "code",
   "execution_count": 59,
   "metadata": {},
   "outputs": [
    {
     "name": "stdout",
     "output_type": "stream",
     "text": [
      "Model: \"sequential_7\"\n",
      "_________________________________________________________________\n",
      "Layer (type)                 Output Shape              Param #   \n",
      "=================================================================\n",
      "dense_19 (Dense)             (None, 512)               401920    \n",
      "_________________________________________________________________\n",
      "dropout_14 (Dropout)         (None, 512)               0         \n",
      "_________________________________________________________________\n",
      "dense_20 (Dense)             (None, 512)               262656    \n",
      "_________________________________________________________________\n",
      "dropout_15 (Dropout)         (None, 512)               0         \n",
      "_________________________________________________________________\n",
      "dense_21 (Dense)             (None, 10)                5130      \n",
      "=================================================================\n",
      "Total params: 669,706\n",
      "Trainable params: 669,706\n",
      "Non-trainable params: 0\n",
      "_________________________________________________________________\n",
      "Train on 60000 samples, validate on 10000 samples\n",
      "Epoch 1/20\n",
      "60000/60000 [==============================] - 47s 777us/sample - loss: 0.3086 - acc: 0.9045 - val_loss: 0.1365 - val_acc: 0.9570\n",
      "Epoch 2/20\n",
      "60000/60000 [==============================] - 30s 493us/sample - loss: 0.1158 - acc: 0.9643 - val_loss: 0.1335 - val_acc: 0.9593\n",
      "Epoch 3/20\n",
      "60000/60000 [==============================] - 33s 545us/sample - loss: 0.0636 - acc: 0.9791 - val_loss: 0.1651 - val_acc: 0.9551\n",
      "Epoch 4/20\n",
      "60000/60000 [==============================] - 34s 572us/sample - loss: 0.0389 - acc: 0.9872 - val_loss: 0.1497 - val_acc: 0.9647\n",
      "Epoch 5/20\n",
      "60000/60000 [==============================] - 30s 506us/sample - loss: 0.0276 - acc: 0.9908 - val_loss: 0.1528 - val_acc: 0.9670\n",
      "Epoch 6/20\n",
      "60000/60000 [==============================] - 39s 644us/sample - loss: 0.0211 - acc: 0.9931 - val_loss: 0.1741 - val_acc: 0.9672\n",
      "Epoch 7/20\n",
      "60000/60000 [==============================] - 33s 548us/sample - loss: 0.0187 - acc: 0.9937 - val_loss: 0.2066 - val_acc: 0.9642 loss: 0.0188 - acc:\n",
      "Epoch 8/20\n",
      "60000/60000 [==============================] - 36s 594us/sample - loss: 0.0149 - acc: 0.9949 - val_loss: 0.2178 - val_acc: 0.9650\n",
      "Epoch 9/20\n",
      "60000/60000 [==============================] - 32s 532us/sample - loss: 0.0150 - acc: 0.9953 - val_loss: 0.2140 - val_acc: 0.9674\n",
      "Epoch 10/20\n",
      "60000/60000 [==============================] - 37s 614us/sample - loss: 0.0135 - acc: 0.9956 - val_loss: 0.2334 - val_acc: 0.9668\n",
      "Epoch 11/20\n",
      "60000/60000 [==============================] - 36s 599us/sample - loss: 0.0132 - acc: 0.9960 - val_loss: 0.2244 - val_acc: 0.9680\n",
      "Epoch 12/20\n",
      "60000/60000 [==============================] - 31s 523us/sample - loss: 0.0114 - acc: 0.9965 - val_loss: 0.2420 - val_acc: 0.9680\n",
      "Epoch 13/20\n",
      "60000/60000 [==============================] - 32s 540us/sample - loss: 0.0114 - acc: 0.9965 - val_loss: 0.2825 - val_acc: 0.966714 - acc: 0.99\n",
      "Epoch 14/20\n",
      "60000/60000 [==============================] - 33s 547us/sample - loss: 0.0110 - acc: 0.9967 - val_loss: 0.2666 - val_acc: 0.9687\n",
      "Epoch 15/20\n",
      "60000/60000 [==============================] - 35s 586us/sample - loss: 0.0123 - acc: 0.9965 - val_loss: 0.2744 - val_acc: 0.9686\n",
      "Epoch 16/20\n",
      "60000/60000 [==============================] - 35s 580us/sample - loss: 0.0096 - acc: 0.9972 - val_loss: 0.2958 - val_acc: 0.9663\n",
      "Epoch 17/20\n",
      "60000/60000 [==============================] - 34s 560us/sample - loss: 0.0102 - acc: 0.9970 - val_loss: 0.2932 - val_acc: 0.9676\n",
      "Epoch 18/20\n",
      "60000/60000 [==============================] - 32s 526us/sample - loss: 0.0091 - acc: 0.9975 - val_loss: 0.3026 - val_acc: 0.9685\n",
      "Epoch 19/20\n",
      "60000/60000 [==============================] - 33s 549us/sample - loss: 0.0085 - acc: 0.9976 - val_loss: 0.2931 - val_acc: 0.9692\n",
      "Epoch 20/20\n",
      "60000/60000 [==============================] - 33s 551us/sample - loss: 0.0090 - acc: 0.9976 - val_loss: 0.3298 - val_acc: 0.9676\n"
     ]
    }
   ],
   "source": [
    "## NN with 2x noise\n",
    "\n",
    "model = Sequential()\n",
    "model.add(Dense(512, activation='relu', input_shape=(784,)))\n",
    "model.add(Dropout(0.2))\n",
    "model.add(Dense(512, activation='relu'))\n",
    "model.add(Dropout(0.2))\n",
    "model.add(Dense(10, activation='softmax'))\n",
    "\n",
    "model.summary()\n",
    "\n",
    "model.compile(loss='categorical_crossentropy',\n",
    "              optimizer=RMSprop(),\n",
    "              metrics=['accuracy'])\n",
    "\n",
    "history = model.fit(xxx_train_NN, y_train,\n",
    "                    batch_size=batch_size,\n",
    "                    epochs=epochs,\n",
    "                    verbose=1,\n",
    "                    validation_data=(xxx_test_NN, y_test))\n"
   ]
  },
  {
   "cell_type": "code",
   "execution_count": 60,
   "metadata": {},
   "outputs": [
    {
     "data": {
      "text/plain": [
       "[0.32975669070233327, 0.9676]"
      ]
     },
     "execution_count": 60,
     "metadata": {},
     "output_type": "execute_result"
    }
   ],
   "source": [
    "#NN 2x noise test\n",
    "score4 = model.evaluate(xxx_test_NN, y_test, verbose=0)\n",
    "score4"
   ]
  },
  {
   "cell_type": "code",
   "execution_count": 61,
   "metadata": {},
   "outputs": [
    {
     "data": {
      "text/plain": [
       "[0.0011462108011735788, 0.9996333]"
      ]
     },
     "execution_count": 61,
     "metadata": {},
     "output_type": "execute_result"
    }
   ],
   "source": [
    "#NN 2x noise train\n",
    "score4_train = model.evaluate(xxx_train_NN, y_train, verbose=0)\n",
    "score4_train"
   ]
  },
  {
   "cell_type": "code",
   "execution_count": 13,
   "metadata": {},
   "outputs": [],
   "source": [
    "## convolution NN 2x noise\n",
    "\n",
    "# input image dimensions\n",
    "img_rows, img_cols = 28, 28\n",
    "\n",
    "if backend.image_data_format() == 'channels_first':\n",
    "    xxx_train_CNN = xxx_train.reshape(xxx_train.shape[0], 1, img_rows, img_cols)\n",
    "    xxx_test_CNN = xxx_test.reshape(xxx_test.shape[0], 1, img_rows, img_cols)\n",
    "    input_shape = (1, img_rows, img_cols)\n",
    "else:\n",
    "    xxx_train_CNN = xxx_train.reshape(xxx_train.shape[0], img_rows, img_cols, 1)\n",
    "    xxx_test_CNN = xxx_test.reshape(xxx_test.shape[0], img_rows, img_cols, 1)\n",
    "    input_shape = (img_rows, img_cols, 1)\n"
   ]
  },
  {
   "cell_type": "code",
   "execution_count": 14,
   "metadata": {},
   "outputs": [
    {
     "name": "stdout",
     "output_type": "stream",
     "text": [
      "WARNING:tensorflow:From C:\\ProgramData\\Anaconda3\\lib\\site-packages\\tensorflow\\python\\ops\\init_ops.py:1251: calling VarianceScaling.__init__ (from tensorflow.python.ops.init_ops) with dtype is deprecated and will be removed in a future version.\n",
      "Instructions for updating:\n",
      "Call initializer instance with the dtype argument instead of passing it to the constructor\n",
      "Train on 60000 samples, validate on 10000 samples\n",
      "Epoch 1/20\n",
      "60000/60000 [==============================] - 790s 13ms/sample - loss: 2.2946 - acc: 0.1185 - val_loss: 2.2675 - val_acc: 0.2019\n",
      "Epoch 2/20\n",
      "60000/60000 [==============================] - 793s 13ms/sample - loss: 2.2540 - acc: 0.1935 - val_loss: 2.2175 - val_acc: 0.4035\n",
      "Epoch 3/20\n",
      "60000/60000 [==============================] - 647s 11ms/sample - loss: 2.2039 - acc: 0.2778 - val_loss: 2.1535 - val_acc: 0.5516\n",
      "Epoch 4/20\n",
      "60000/60000 [==============================] - 608s 10ms/sample - loss: 2.1364 - acc: 0.3640 - val_loss: 2.0678 - val_acc: 0.6190\n",
      "Epoch 5/20\n",
      "60000/60000 [==============================] - 601s 10ms/sample - loss: 2.0478 - acc: 0.4304 - val_loss: 1.9556 - val_acc: 0.6560\n",
      "Epoch 6/20\n",
      "60000/60000 [==============================] - 599s 10ms/sample - loss: 1.9355 - acc: 0.4791 - val_loss: 1.8127 - val_acc: 0.6967\n",
      "Epoch 7/20\n",
      "60000/60000 [==============================] - 602s 10ms/sample - loss: 1.7989 - acc: 0.5245 - val_loss: 1.6418 - val_acc: 0.7248\n",
      "Epoch 8/20\n",
      "60000/60000 [==============================] - 597s 10ms/sample - loss: 1.6451 - acc: 0.5606 - val_loss: 1.4567 - val_acc: 0.7612\n",
      "Epoch 9/20\n",
      "60000/60000 [==============================] - 626s 10ms/sample - loss: 1.4907 - acc: 0.5965 - val_loss: 1.2784 - val_acc: 0.7820\n",
      "Epoch 10/20\n",
      "60000/60000 [==============================] - 627s 10ms/sample - loss: 1.3522 - acc: 0.6229 - val_loss: 1.1211 - val_acc: 0.7990\n",
      "Epoch 11/20\n",
      "60000/60000 [==============================] - 608s 10ms/sample - loss: 1.2326 - acc: 0.6463 - val_loss: 0.9926 - val_acc: 0.8097\n",
      "Epoch 12/20\n",
      "60000/60000 [==============================] - 600s 10ms/sample - loss: 1.1343 - acc: 0.6673 - val_loss: 0.8897 - val_acc: 0.8198\n",
      "Epoch 13/20\n",
      "60000/60000 [==============================] - 631s 11ms/sample - loss: 1.0524 - acc: 0.6844 - val_loss: 0.8083 - val_acc: 0.8300\n",
      "Epoch 14/20\n",
      "60000/60000 [==============================] - 676s 11ms/sample - loss: 0.9880 - acc: 0.7029 - val_loss: 0.7438 - val_acc: 0.8355\n",
      "Epoch 15/20\n",
      "60000/60000 [==============================] - 700s 12ms/sample - loss: 0.9344 - acc: 0.7155 - val_loss: 0.6919 - val_acc: 0.8412\n",
      "Epoch 16/20\n",
      "60000/60000 [==============================] - 699s 12ms/sample - loss: 0.8927 - acc: 0.7275 - val_loss: 0.6495 - val_acc: 0.8470\n",
      "Epoch 17/20\n",
      "60000/60000 [==============================] - 860s 14ms/sample - loss: 0.8496 - acc: 0.7388 - val_loss: 0.6139 - val_acc: 0.8513\n",
      "Epoch 18/20\n",
      "60000/60000 [==============================] - 837s 14ms/sample - loss: 0.8235 - acc: 0.7447 - val_loss: 0.5855 - val_acc: 0.8556\n",
      "Epoch 19/20\n",
      "60000/60000 [==============================] - 707s 12ms/sample - loss: 0.7912 - acc: 0.7571 - val_loss: 0.5600 - val_acc: 0.8599\n",
      "Epoch 20/20\n",
      "60000/60000 [==============================] - 710s 12ms/sample - loss: 0.7651 - acc: 0.7640 - val_loss: 0.5384 - val_acc: 0.8636\n"
     ]
    },
    {
     "data": {
      "text/plain": [
       "<tensorflow.python.keras.callbacks.History at 0x1dec7644688>"
      ]
     },
     "execution_count": 14,
     "metadata": {},
     "output_type": "execute_result"
    }
   ],
   "source": [
    "# CNN with noise\n",
    "\n",
    "model = Sequential()\n",
    "model.add(Conv2D(32, kernel_size=(3, 3),\n",
    "                 activation='relu',\n",
    "                 input_shape=input_shape))\n",
    "model.add(Conv2D(64, (3, 3), activation='relu'))\n",
    "model.add(MaxPooling2D(pool_size=(2, 2)))\n",
    "model.add(Dropout(0.25))\n",
    "model.add(Flatten())\n",
    "model.add(Dense(128, activation='relu'))\n",
    "model.add(Dropout(0.5))\n",
    "model.add(Dense(num_classes, activation='softmax'))\n",
    "\n",
    "model.compile(loss=keras.losses.categorical_crossentropy,\n",
    "              optimizer=keras.optimizers.Adadelta(),\n",
    "              metrics=['accuracy'])\n",
    "\n",
    "model.fit(xxx_train_CNN, y_train,\n",
    "          batch_size=batch_size,\n",
    "          epochs=epochs,\n",
    "          verbose=1,\n",
    "          validation_data=(xxx_test_CNN, y_test))\n"
   ]
  },
  {
   "cell_type": "code",
   "execution_count": 15,
   "metadata": {},
   "outputs": [
    {
     "data": {
      "text/plain": [
       "[0.5383600551128388, 0.8636]"
      ]
     },
     "execution_count": 15,
     "metadata": {},
     "output_type": "execute_result"
    }
   ],
   "source": [
    "#CNN 2x noise test\n",
    "score5 = model.evaluate(xxx_test_CNN, y_test, verbose=0)\n",
    "score5 "
   ]
  },
  {
   "cell_type": "code",
   "execution_count": 16,
   "metadata": {},
   "outputs": [
    {
     "data": {
      "text/plain": [
       "[0.5590579536358515, 0.85495]"
      ]
     },
     "execution_count": 16,
     "metadata": {},
     "output_type": "execute_result"
    }
   ],
   "source": [
    "#CNN 2x noise train\n",
    "score5_train = model.evaluate(xxx_train_CNN, y_train, verbose=0)\n",
    "score5_train"
   ]
  },
  {
   "cell_type": "code",
   "execution_count": 31,
   "metadata": {},
   "outputs": [
    {
     "data": {
      "text/html": [
       "<div>\n",
       "<style scoped>\n",
       "    .dataframe tbody tr th:only-of-type {\n",
       "        vertical-align: middle;\n",
       "    }\n",
       "\n",
       "    .dataframe tbody tr th {\n",
       "        vertical-align: top;\n",
       "    }\n",
       "\n",
       "    .dataframe thead th {\n",
       "        text-align: right;\n",
       "    }\n",
       "</style>\n",
       "<table border=\"1\" class=\"dataframe\">\n",
       "  <thead>\n",
       "    <tr style=\"text-align: right;\">\n",
       "      <th></th>\n",
       "      <th>model</th>\n",
       "      <th>loss</th>\n",
       "      <th>accuracy</th>\n",
       "    </tr>\n",
       "  </thead>\n",
       "  <tbody>\n",
       "    <tr>\n",
       "      <td>0</td>\n",
       "      <td>NN</td>\n",
       "      <td>0.137503</td>\n",
       "      <td>0.9821</td>\n",
       "    </tr>\n",
       "    <tr>\n",
       "      <td>1</td>\n",
       "      <td>NN noise</td>\n",
       "      <td>0.231613</td>\n",
       "      <td>0.9777</td>\n",
       "    </tr>\n",
       "    <tr>\n",
       "      <td>2</td>\n",
       "      <td>CNN</td>\n",
       "      <td>0.451145</td>\n",
       "      <td>0.8839</td>\n",
       "    </tr>\n",
       "    <tr>\n",
       "      <td>3</td>\n",
       "      <td>CNN noise</td>\n",
       "      <td>0.552886</td>\n",
       "      <td>0.8635</td>\n",
       "    </tr>\n",
       "    <tr>\n",
       "      <td>4</td>\n",
       "      <td>NN 2x noise</td>\n",
       "      <td>0.329757</td>\n",
       "      <td>0.9676</td>\n",
       "    </tr>\n",
       "    <tr>\n",
       "      <td>5</td>\n",
       "      <td>CNN 2x noise</td>\n",
       "      <td>0.538360</td>\n",
       "      <td>0.8636</td>\n",
       "    </tr>\n",
       "  </tbody>\n",
       "</table>\n",
       "</div>"
      ],
      "text/plain": [
       "          model      loss  accuracy\n",
       "0            NN  0.137503    0.9821\n",
       "1      NN noise  0.231613    0.9777\n",
       "2           CNN  0.451145    0.8839\n",
       "3     CNN noise  0.552886    0.8635\n",
       "4   NN 2x noise  0.329757    0.9676\n",
       "5  CNN 2x noise  0.538360    0.8636"
      ]
     },
     "execution_count": 31,
     "metadata": {},
     "output_type": "execute_result"
    }
   ],
   "source": [
    "#test results\n",
    "NN_results_test = pd.DataFrame([score, score1, score2, score3, score4, score5], \n",
    "                               columns = (\"loss\", \"accuracy\"))\n",
    "NN_results_test['model'] = ('NN', 'NN noise', 'CNN', 'CNN noise', 'NN 2x noise', 'CNN 2x noise')\n",
    "NN_results_test[['model', 'loss', 'accuracy']]"
   ]
  },
  {
   "cell_type": "code",
   "execution_count": 32,
   "metadata": {},
   "outputs": [],
   "source": [
    "plt.rcParams['figure.figsize'] = (10.0, 7.5)"
   ]
  },
  {
   "cell_type": "code",
   "execution_count": 37,
   "metadata": {},
   "outputs": [
    {
     "data": {
      "image/png": "[encoded data removed]",
      "text/plain": [
       "<Figure size 720x540 with 1 Axes>"
      ]
     },
     "metadata": {
      "needs_background": "light"
     },
     "output_type": "display_data"
    }
   ],
   "source": [
    "plt.plot(NN_results_test.model, NN_results_test.loss)\n",
    "plt.plot(NN_results_test.model, NN_results_test.accuracy)\n",
    "\n",
    "plt.legend((plt.scatter(NN_results_test.model, NN_results_test.loss), \n",
    "            plt.scatter(NN_results_test.model, NN_results_test.accuracy)), \n",
    "           ('loss', 'accuracy'), loc = 'lower right')\n",
    "plt.title('Test Accuracy and Loss')\n",
    "plt.show()\n"
   ]
  },
  {
   "cell_type": "code",
   "execution_count": 30,
   "metadata": {},
   "outputs": [
    {
     "data": {
      "text/html": [
       "<div>\n",
       "<style scoped>\n",
       "    .dataframe tbody tr th:only-of-type {\n",
       "        vertical-align: middle;\n",
       "    }\n",
       "\n",
       "    .dataframe tbody tr th {\n",
       "        vertical-align: top;\n",
       "    }\n",
       "\n",
       "    .dataframe thead th {\n",
       "        text-align: right;\n",
       "    }\n",
       "</style>\n",
       "<table border=\"1\" class=\"dataframe\">\n",
       "  <thead>\n",
       "    <tr style=\"text-align: right;\">\n",
       "      <th></th>\n",
       "      <th>model</th>\n",
       "      <th>loss</th>\n",
       "      <th>accuracy</th>\n",
       "    </tr>\n",
       "  </thead>\n",
       "  <tbody>\n",
       "    <tr>\n",
       "      <td>0</td>\n",
       "      <td>NN</td>\n",
       "      <td>0.002587</td>\n",
       "      <td>0.999067</td>\n",
       "    </tr>\n",
       "    <tr>\n",
       "      <td>1</td>\n",
       "      <td>NN noise</td>\n",
       "      <td>0.000520</td>\n",
       "      <td>0.999767</td>\n",
       "    </tr>\n",
       "    <tr>\n",
       "      <td>2</td>\n",
       "      <td>CNN</td>\n",
       "      <td>0.470807</td>\n",
       "      <td>0.874917</td>\n",
       "    </tr>\n",
       "    <tr>\n",
       "      <td>3</td>\n",
       "      <td>CNN noise</td>\n",
       "      <td>0.572884</td>\n",
       "      <td>0.855283</td>\n",
       "    </tr>\n",
       "    <tr>\n",
       "      <td>4</td>\n",
       "      <td>NN 2x noise</td>\n",
       "      <td>0.001146</td>\n",
       "      <td>0.999633</td>\n",
       "    </tr>\n",
       "    <tr>\n",
       "      <td>5</td>\n",
       "      <td>CNN 2x noise</td>\n",
       "      <td>0.559058</td>\n",
       "      <td>0.854950</td>\n",
       "    </tr>\n",
       "  </tbody>\n",
       "</table>\n",
       "</div>"
      ],
      "text/plain": [
       "          model      loss  accuracy\n",
       "0            NN  0.002587  0.999067\n",
       "1      NN noise  0.000520  0.999767\n",
       "2           CNN  0.470807  0.874917\n",
       "3     CNN noise  0.572884  0.855283\n",
       "4   NN 2x noise  0.001146  0.999633\n",
       "5  CNN 2x noise  0.559058  0.854950"
      ]
     },
     "execution_count": 30,
     "metadata": {},
     "output_type": "execute_result"
    }
   ],
   "source": [
    "#train results\n",
    "\n",
    "NN_results_train = pd.DataFrame([score_train, score1_train, score2_train, score3_train, score4_train, score5_train], \n",
    "                                columns = (\"loss\", \"accuracy\"))\n",
    "NN_results_train['model'] = ('NN', 'NN noise', 'CNN', 'CNN noise', 'NN 2x noise', 'CNN 2x noise')\n",
    "NN_results_train[['model', 'loss', 'accuracy']]"
   ]
  },
  {
   "cell_type": "code",
   "execution_count": 36,
   "metadata": {},
   "outputs": [
    {
     "data": {
      "image/png": "[encoded data removed]",
      "text/plain": [
       "<Figure size 720x540 with 1 Axes>"
      ]
     },
     "metadata": {
      "needs_background": "light"
     },
     "output_type": "display_data"
    }
   ],
   "source": [
    "plt.plot(NN_results_train.model, NN_results_train.loss)\n",
    "plt.plot(NN_results_train.model, NN_results_train.accuracy)\n",
    "\n",
    "plt.legend((plt.scatter(NN_results_train.model, NN_results_train.loss), \n",
    "            plt.scatter(NN_results_train.model, NN_results_train.accuracy)), \n",
    "           ('loss', 'accuracy'), loc = 'lower right')\n",
    "plt.title('Train Accuracy and Loss')\n",
    "plt.show()\n"
   ]
  },
  {
   "cell_type": "markdown",
   "metadata": {},
   "source": [
    "# Neural Networks - Image Recognition "
   ]
  },
  {
   "cell_type": "code",
   "execution_count": null,
   "metadata": {},
   "outputs": [],
   "source": [
    "from tensorflow import keras\n",
    "from tensorflow.keras.datasets import mnist\n",
    "from tensorflow.keras.models import Sequential\n",
    "from tensorflow.keras.optimizers import RMSprop\n",
    "from tensorflow.keras.layers import Dense, Dropout, Flatten\n",
    "from tensorflow.keras.layers import Conv2D, MaxPooling2D\n",
    "from tensorflow.keras import backend"
   ]
  },
  {
   "cell_type": "markdown",
   "metadata": {},
   "source": [
    "## Multi Layer Neural Network\n",
    "Trains a simple deep NN on the MNIST dataset.\n",
    "Gets to 98.40% test accuracy after 20 epochs\n",
    "(there is *a lot* of margin for parameter tuning)."
   ]
  },
  {
   "cell_type": "code",
   "execution_count": null,
   "metadata": {},
   "outputs": [],
   "source": [
    "# the data, shuffled and split between train and test sets\n",
    "(x_train, y_train), (x_test, y_test) = mnist.load_data()\n",
    "\n",
    "x_train = x_train.reshape(60000, 784)\n",
    "x_test = x_test.reshape(10000, 784)\n",
    "x_train = x_train.astype('float32')\n",
    "x_test = x_test.astype('float32')\n",
    "x_train /= 255\n",
    "x_test /= 255\n",
    "print(x_train.shape[0], 'train samples')\n",
    "print(x_test.shape[0], 'test samples')"
   ]
  },
  {
   "cell_type": "code",
   "execution_count": null,
   "metadata": {},
   "outputs": [],
   "source": [
    "batch_size = 128\n",
    "num_classes = 10\n",
    "epochs = 20\n",
    "\n",
    "\n",
    "# convert class vectors to binary class matrices\n",
    "y_train = keras.utils.to_categorical(y_train, num_classes)\n",
    "y_test = keras.utils.to_categorical(y_test, num_classes)\n",
    "\n",
    "model = Sequential()\n",
    "model.add(Dense(512, activation='relu', input_shape=(784,)))\n",
    "model.add(Dropout(0.2))\n",
    "model.add(Dense(512, activation='relu'))\n",
    "model.add(Dropout(0.2))\n",
    "model.add(Dense(10, activation='softmax'))\n",
    "\n",
    "model.summary()\n",
    "\n",
    "model.compile(loss='categorical_crossentropy',\n",
    "              optimizer=RMSprop(),\n",
    "              metrics=['accuracy'])\n",
    "\n",
    "history = model.fit(x_train, y_train,\n",
    "                    batch_size=batch_size,\n",
    "                    epochs=epochs,\n",
    "                    verbose=1,\n",
    "                    validation_data=(x_test, y_test))\n",
    "score = model.evaluate(x_test, y_test, verbose=0)\n",
    "print('Test loss:', score[0])\n",
    "print('Test accuracy:', score[1])"
   ]
  },
  {
   "cell_type": "markdown",
   "metadata": {},
   "source": [
    "## Conv Net\n",
    "Trains a simple convnet on the MNIST dataset.\n",
    "Gets to 99.25% test accuracy after 12 epochs\n",
    "(there is still a lot of margin for parameter tuning).\n"
   ]
  },
  {
   "cell_type": "code",
   "execution_count": null,
   "metadata": {
    "scrolled": true
   },
   "outputs": [],
   "source": [
    "# input image dimensions\n",
    "img_rows, img_cols = 28, 28\n",
    "\n",
    "# the data, shuffled and split between train and test sets\n",
    "(x_train, y_train), (x_test, y_test) = mnist.load_data()\n",
    "\n",
    "if backend.image_data_format() == 'channels_first':\n",
    "    x_train = x_train.reshape(x_train.shape[0], 1, img_rows, img_cols)\n",
    "    x_test = x_test.reshape(x_test.shape[0], 1, img_rows, img_cols)\n",
    "    input_shape = (1, img_rows, img_cols)\n",
    "else:\n",
    "    x_train = x_train.reshape(x_train.shape[0], img_rows, img_cols, 1)\n",
    "    x_test = x_test.reshape(x_test.shape[0], img_rows, img_cols, 1)\n",
    "    input_shape = (img_rows, img_cols, 1)\n",
    "\n",
    "x_train = x_train.astype('float32')\n",
    "x_test = x_test.astype('float32')\n",
    "x_train /= 255\n",
    "x_test /= 255\n",
    "print('x_train shape:', x_train.shape)\n",
    "print(x_train.shape[0], 'train samples')\n",
    "print(x_test.shape[0], 'test samples')"
   ]
  },
  {
   "cell_type": "code",
   "execution_count": null,
   "metadata": {},
   "outputs": [],
   "source": [
    "batch_size = 128\n",
    "num_classes = 10\n",
    "epochs = 12\n",
    "\n",
    "# convert class vectors to binary class matrices\n",
    "y_train = keras.utils.to_categorical(y_train, num_classes)\n",
    "y_test = keras.utils.to_categorical(y_test, num_classes)\n",
    "\n",
    "model = Sequential()\n",
    "model.add(Conv2D(32, kernel_size=(3, 3),\n",
    "                 activation='relu',\n",
    "                 input_shape=input_shape))\n",
    "model.add(Conv2D(64, (3, 3), activation='relu'))\n",
    "model.add(MaxPooling2D(pool_size=(2, 2)))\n",
    "model.add(Dropout(0.25))\n",
    "model.add(Flatten())\n",
    "model.add(Dense(128, activation='relu'))\n",
    "model.add(Dropout(0.5))\n",
    "model.add(Dense(num_classes, activation='softmax'))\n",
    "\n",
    "model.compile(loss=keras.losses.categorical_crossentropy,\n",
    "              optimizer=keras.optimizers.Adadelta(),\n",
    "              metrics=['accuracy'])\n",
    "\n",
    "model.fit(x_train, y_train,\n",
    "          batch_size=batch_size,\n",
    "          epochs=epochs,\n",
    "          verbose=1,\n",
    "          validation_data=(x_test, y_test))\n",
    "score = model.evaluate(x_test, y_test, verbose=0)\n",
    "print('Test loss:', score[0])\n",
    "print('Test accuracy:', score[1])"
   ]
  },
  {
   "cell_type": "code",
   "execution_count": null,
   "metadata": {},
   "outputs": [],
   "source": []
  }
 ],
 "metadata": {
  "kernelspec": {
   "display_name": "Python 3",
   "language": "python",
   "name": "python3"
  },
  "language_info": {
   "codemirror_mode": {
    "name": "ipython",
    "version": 3
   },
   "file_extension": ".py",
   "mimetype": "text/x-python",
   "name": "python",
   "nbconvert_exporter": "python",
   "pygments_lexer": "ipython3",
   "version": "3.7.4"
  }
 },
 "nbformat": 4,
 "nbformat_minor": 2
}
